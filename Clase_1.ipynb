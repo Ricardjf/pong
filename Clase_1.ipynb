{
 "cells": [
  {
   "cell_type": "code",
   "execution_count": 3,
   "metadata": {},
   "outputs": [
    {
     "name": "stdout",
     "output_type": "stream",
     "text": [
      "hello!\n"
     ]
    }
   ],
   "source": [
    "print(\"hello!\")"
   ]
  },
  {
   "cell_type": "code",
   "execution_count": 8,
   "metadata": {},
   "outputs": [
    {
     "name": "stdout",
     "output_type": "stream",
     "text": [
      "12\n",
      "14\n",
      "19\n"
     ]
    }
   ],
   "source": [
    "print(10 + 2)\n",
    "print(10 + 4)\n",
    "print(10 + 9)"
   ]
  },
  {
   "cell_type": "code",
   "execution_count": 9,
   "metadata": {},
   "outputs": [
    {
     "name": "stdout",
     "output_type": "stream",
     "text": [
      "El resultado de la operacion es: 30\n"
     ]
    }
   ],
   "source": [
    "# variables\n",
    "variable_1 = 10\n",
    "variable_2 = 20\n",
    "\n",
    "suma_1 = variable_1 + variable_2 \n",
    "print (f\"El resultado de la operacion es: {suma_1}\")"
   ]
  },
  {
   "cell_type": "code",
   "execution_count": 11,
   "metadata": {},
   "outputs": [],
   "source": [
    "variable3 = 40"
   ]
  },
  {
   "cell_type": "code",
   "execution_count": 14,
   "metadata": {},
   "outputs": [],
   "source": [
    "PrimerNombre = \"JoseFino\""
   ]
  },
  {
   "cell_type": "code",
   "execution_count": 11,
   "metadata": {},
   "outputs": [
    {
     "name": "stdout",
     "output_type": "stream",
     "text": [
      "hola Ricardo\n",
      "Tu edad es 17\n",
      "el doble de tu edad es: 34\n"
     ]
    }
   ],
   "source": [
    "# condicionales simples\n",
    "nombre = input (\"ingrese su nombre: \")\n",
    "print (f\"hola {nombre}\")\n",
    "\n",
    "edad = input (\"ingrese su edad: \")\n",
    "print(f\"Tu edad es {edad}\")\n",
    "\n",
    "print(f\"el doble de tu edad es:\", 2 * int(edad))"
   ]
  },
  {
   "cell_type": "code",
   "execution_count": 12,
   "metadata": {},
   "outputs": [],
   "source": [
    "variable_3 = 30"
   ]
  },
  {
   "cell_type": "code",
   "execution_count": 16,
   "metadata": {},
   "outputs": [],
   "source": [
    "primer_nombre = \"JoseFino\""
   ]
  },
  {
   "cell_type": "code",
   "execution_count": 33,
   "metadata": {},
   "outputs": [
    {
     "name": "stdout",
     "output_type": "stream",
     "text": [
      "<class 'str'>\n"
     ]
    },
    {
     "ename": "NameError",
     "evalue": "name 'variable3' is not defined",
     "output_type": "error",
     "traceback": [
      "\u001b[1;31m---------------------------------------------------------------------------\u001b[0m",
      "\u001b[1;31mNameError\u001b[0m                                 Traceback (most recent call last)",
      "\u001b[1;32mc:\\Users\\Ricardo Farías\\AppData\\Local\\Programs\\Python\\Python311\\Python_Ricardo\\Clase_1.ipynb Cell 9\u001b[0m line \u001b[0;36m3\n\u001b[0;32m      <a href='vscode-notebook-cell:/c%3A/Users/Ricardo%20Far%C3%ADas/AppData/Local/Programs/Python/Python311/Python_Ricardo/Clase_1.ipynb#X23sZmlsZQ%3D%3D?line=0'>1</a>\u001b[0m \u001b[39m# tipos de datos basicos\u001b[39;00m\n\u001b[0;32m      <a href='vscode-notebook-cell:/c%3A/Users/Ricardo%20Far%C3%ADas/AppData/Local/Programs/Python/Python311/Python_Ricardo/Clase_1.ipynb#X23sZmlsZQ%3D%3D?line=1'>2</a>\u001b[0m \u001b[39mprint\u001b[39m (\u001b[39mtype\u001b[39m(primer_nombre))\n\u001b[1;32m----> <a href='vscode-notebook-cell:/c%3A/Users/Ricardo%20Far%C3%ADas/AppData/Local/Programs/Python/Python311/Python_Ricardo/Clase_1.ipynb#X23sZmlsZQ%3D%3D?line=2'>3</a>\u001b[0m \u001b[39mprint\u001b[39m (\u001b[39mtype\u001b[39m (variable3))\n\u001b[0;32m      <a href='vscode-notebook-cell:/c%3A/Users/Ricardo%20Far%C3%ADas/AppData/Local/Programs/Python/Python311/Python_Ricardo/Clase_1.ipynb#X23sZmlsZQ%3D%3D?line=3'>4</a>\u001b[0m \u001b[39mprint\u001b[39m(\u001b[39mtype\u001b[39m(\u001b[39m0\u001b[39m,\u001b[39m2\u001b[39m))\n\u001b[0;32m      <a href='vscode-notebook-cell:/c%3A/Users/Ricardo%20Far%C3%ADas/AppData/Local/Programs/Python/Python311/Python_Ricardo/Clase_1.ipynb#X23sZmlsZQ%3D%3D?line=4'>5</a>\u001b[0m \u001b[39mprint\u001b[39m(\u001b[39mtype\u001b[39m(\u001b[39mTrue\u001b[39;00m))\n",
      "\u001b[1;31mNameError\u001b[0m: name 'variable3' is not defined"
     ]
    }
   ],
   "source": [
    "# tipos de datos basicos\n",
    "print (type(primer_nombre))\n",
    "print (type (variable3))\n",
    "print(type(0,2))\n",
    "print(type(True))\n",
    "print(type(10))\n",
    "print(type(10))"
   ]
  },
  {
   "cell_type": "code",
   "execution_count": 17,
   "metadata": {},
   "outputs": [
    {
     "name": "stdout",
     "output_type": "stream",
     "text": [
      "1010\n"
     ]
    },
    {
     "data": {
      "text/plain": [
       "20"
      ]
     },
     "execution_count": 17,
     "metadata": {},
     "output_type": "execute_result"
    }
   ],
   "source": [
    "# concaatenacion de cadenas\n",
    "print (\"10\" + \"10\")\n",
    "\n",
    "# concaatenacion de cadenas\n",
    "10 + 10"
   ]
  },
  {
   "cell_type": "code",
   "execution_count": null,
   "metadata": {},
   "outputs": [],
   "source": [
    "# como resolver "
   ]
  },
  {
   "cell_type": "code",
   "execution_count": 29,
   "metadata": {},
   "outputs": [
    {
     "name": "stdout",
     "output_type": "stream",
     "text": [
      "hola Ricardo\n",
      "Tu edad es 17\n",
      "el doble de tu edad es: 34\n",
      "No eres mayor de edad\n"
     ]
    }
   ],
   "source": [
    "# condicionales simples\n",
    "nombre = input (\"ingrese su nombre: \")\n",
    "print (f\"hola {nombre}\")\n",
    "\n",
    "edad = int(input (\"ingrese su edad: \"))\n",
    "print(f\"Tu edad es {edad}\")\n",
    "\n",
    "print(f\"el doble de tu edad es:\", 2 * int(edad))\n",
    "\n",
    "if edad >= 18:\n",
    "    print(\"eres mayor de edad\")\n",
    "\n",
    "else:\n",
    "    print(\"No eres mayor de edad\")"
   ]
  },
  {
   "cell_type": "code",
   "execution_count": 30,
   "metadata": {},
   "outputs": [
    {
     "name": "stdout",
     "output_type": "stream",
     "text": [
      "precio: 1.2$\n"
     ]
    }
   ],
   "source": [
    "# condicional encadenado\n",
    "\n",
    "# solicita el sabor del helado\n",
    "helado = input (\"Ingresa el sabor del helado: \")\n",
    "\n",
    "# comprueba el precio delhelado\n",
    "if helado == \"fresa\":\n",
    "    print(\"precio: 1.2$\")\n",
    "\n",
    "elif heado == \"chocolate\":\n",
    "    print(\"precio: 1.5$\")\n",
    "\n",
    "elif helado == \"coco\":\n",
    "    print(\"precio: 0.9$\")\n",
    "\n",
    "else: \n",
    "    print(\"No disponible\")"
   ]
  },
  {
   "cell_type": "code",
   "execution_count": 34,
   "metadata": {},
   "outputs": [
    {
     "name": "stdout",
     "output_type": "stream",
     "text": [
      "['cambur', 'patila', 'mango', 'fresa', 'coco']\n",
      "<class 'list'>\n",
      "5\n"
     ]
    }
   ],
   "source": [
    "#ciclos finitos \n",
    "frutas = [\"cambur\", \"patila\", \"mango\", \"fresa\", \"coco\"]\n",
    "print(frutas)\n",
    "# Devuelve el tipo de datos\n",
    "print (type(frutas))\n",
    "\n",
    "# Devuelve la longitud de la lista\n",
    "print (len(frutas))\n",
    "\n",
    "#implementado un ciclo finito\n",
    "for fruta in frutas:\n",
    "    print(fruta) \n",
    "print (\"Listo.\")\n"
   ]
  },
  {
   "cell_type": "code",
   "execution_count": null,
   "metadata": {},
   "outputs": [],
   "source": [
    "# ciclo infinito \n",
    "control = False\n",
    "\n",
    "while control:\n",
    "     contraseña = (input(\"ingresa tu contraseña: \"))\n",
    "     if contraseña == 1234: \n",
    "        control = True\n",
    "        print(\"Bienvenido\")\n",
    "    else:\n",
    "        print(\"Sigue intentado.\")"
   ]
  },
  {
   "cell_type": "code",
   "execution_count": null,
   "metadata": {},
   "outputs": [],
   "source": [
    "# comentarios\n",
    "# suma"
   ]
  },
  {
   "cell_type": "code",
   "execution_count": null,
   "metadata": {},
   "outputs": [],
   "source": []
  },
  {
   "cell_type": "code",
   "execution_count": 35,
   "metadata": {},
   "outputs": [
    {
     "name": "stdout",
     "output_type": "stream",
     "text": [
      "Hello! I'm Emu Otori! Egao means Smile!\n"
     ]
    }
   ],
   "source": [
    "print (\"Hello! I'm Emu Otori! Egao means Smile!\")"
   ]
  }
 ],
 "metadata": {
  "kernelspec": {
   "display_name": "Python 3",
   "language": "python",
   "name": "python3"
  },
  "language_info": {
   "codemirror_mode": {
    "name": "ipython",
    "version": 3
   },
   "file_extension": ".py",
   "mimetype": "text/x-python",
   "name": "python",
   "nbconvert_exporter": "python",
   "pygments_lexer": "ipython3",
   "version": "3.11.6"
  }
 },
 "nbformat": 4,
 "nbformat_minor": 2
}
